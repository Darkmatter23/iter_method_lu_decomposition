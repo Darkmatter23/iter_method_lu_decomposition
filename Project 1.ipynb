{
 "cells": [
  {
   "cell_type": "code",
   "execution_count": 1,
   "metadata": {},
   "outputs": [],
   "source": [
    "#Import Libraries\n",
    "import pandas as pd\n",
    "import matplotlib.pyplot as plt\n",
    "import time\n",
    "import numpy as np\n",
    "from scipy.sparse import diags\n",
    "from numpy.linalg import inv, norm, solve"
   ]
  },
  {
   "cell_type": "code",
   "execution_count": 2,
   "metadata": {},
   "outputs": [],
   "source": [
    "#Limit the output\n",
    "np.set_printoptions(threshold=5)"
   ]
  },
  {
   "cell_type": "markdown",
   "metadata": {},
   "source": [
    "# a) Iterative Methods"
   ]
  },
  {
   "cell_type": "code",
   "execution_count": 3,
   "metadata": {},
   "outputs": [],
   "source": [
    "#Initilization\n",
    "n_list = [2, 4, 8, 16, 32, 64, 128, 256]\n",
    "diff = 0.0001\n",
    "values = [-1, 4, -1]\n",
    "w = 1.3\n",
    "Jacobian_times = []\n",
    "Gauss_Seidel_times = []\n",
    "SOR_times= []\n",
    "\n",
    "Jacobian_errors = []\n",
    "Gauss_Seidel_errors = []\n",
    "SOR_errors = []"
   ]
  },
  {
   "cell_type": "markdown",
   "metadata": {},
   "source": [
    "### 1. Jacobian"
   ]
  },
  {
   "cell_type": "code",
   "execution_count": 4,
   "metadata": {},
   "outputs": [
    {
     "name": "stdout",
     "output_type": "stream",
     "text": [
      "Start Jacobian method for n =  2 \n",
      "\n",
      "First Guess = [0. 0.]\n",
      "iteration 1 = [0.25 0.25]\n",
      "iteration 2 = [0.3125 0.3125]\n",
      "iteration 3 = [0.328125 0.328125]\n",
      "iteration 4 = [0.33203125 0.33203125]\n",
      "iteration 5 = [0.33300781 0.33300781]\n",
      "iteration 6 = [0.33325195 0.33325195]\n",
      "\n",
      "Final Answer is: [0.33325195 0.33325195]\n",
      "\n",
      "\n",
      "Start Jacobian method for n =  4 \n",
      "\n",
      "First Guess = [0. 0. 0. 0.]\n",
      "iteration 1 = [0.25 0.25 0.25 0.25]\n",
      "iteration 2 = [0.3125 0.375  0.375  0.3125]\n",
      "iteration 3 = [0.34375  0.421875 0.421875 0.34375 ]\n",
      "iteration 4 = [0.35546875 0.44140625 0.44140625 0.35546875]\n",
      "iteration 5 = [0.36035156 0.44921875 0.44921875 0.36035156]\n",
      "iteration 6 = [0.36230469 0.45239258 0.45239258 0.36230469]\n",
      "iteration 7 = [0.36309814 0.45367432 0.45367432 0.36309814]\n",
      "iteration 8 = [0.36341858 0.45419312 0.45419312 0.36341858]\n",
      "iteration 9 = [0.36354828 0.45440292 0.45440292 0.36354828]\n",
      "iteration 10 = [0.36360073 0.4544878  0.4544878  0.36360073]\n",
      "\n",
      "Final Answer is: [0.36360073 0.4544878  0.4544878  0.36360073]\n",
      "\n",
      "\n",
      "Start Jacobian method for n =  8 \n",
      "\n",
      "First Guess = [0. 0. 0. ... 0. 0. 0.]\n",
      "iteration 1 = [0.25 0.25 0.25 ... 0.25 0.25 0.25]\n",
      "iteration 2 = [0.3125 0.375  0.375  ... 0.375  0.375  0.3125]\n",
      "iteration 3 = [0.34375  0.421875 0.4375   ... 0.4375   0.421875 0.34375 ]\n",
      "iteration 4 = [0.35546875 0.4453125  0.46484375 ... 0.46484375 0.4453125  0.35546875]\n",
      "iteration 5 = [0.36132812 0.45507812 0.47851562 ... 0.47851562 0.45507812 0.36132812]\n",
      "iteration 6 = [0.36376953 0.45996094 0.48461914 ... 0.48461914 0.45996094 0.36376953]\n",
      "iteration 7 = [0.36499023 0.46209717 0.48760986 ... 0.48760986 0.46209717 0.36499023]\n",
      "iteration 8 = [0.36552429 0.46315002 0.4889679  ... 0.4889679  0.46315002 0.36552429]\n",
      "iteration 9 = [0.36578751 0.46362305 0.48962402 ... 0.48962402 0.46362305 0.36578751]\n",
      "iteration 10 = [0.36590576 0.46385288 0.48992538 ... 0.48992538 0.46385288 0.36590576]\n",
      "iteration 11 = [0.36596322 0.46395779 0.49006963 ... 0.49006963 0.46395779 0.36596322]\n",
      "iteration 12 = [0.36598945 0.46400821 0.49013638 ... 0.49013638 0.46400821 0.36598945]\n",
      "\n",
      "Final Answer is: [0.36598945 0.46400821 0.49013638 ... 0.49013638 0.46400821 0.36598945]\n",
      "\n",
      "\n",
      "Start Jacobian method for n =  16 \n",
      "\n",
      "First Guess = [0. 0. 0. ... 0. 0. 0.]\n",
      "iteration 1 = [0.25 0.25 0.25 ... 0.25 0.25 0.25]\n",
      "iteration 2 = [0.3125 0.375  0.375  ... 0.375  0.375  0.3125]\n",
      "iteration 3 = [0.34375  0.421875 0.4375   ... 0.4375   0.421875 0.34375 ]\n",
      "iteration 4 = [0.35546875 0.4453125  0.46484375 ... 0.46484375 0.4453125  0.35546875]\n",
      "iteration 5 = [0.36132812 0.45507812 0.47851562 ... 0.47851562 0.45507812 0.36132812]\n",
      "iteration 6 = [0.36376953 0.45996094 0.48461914 ... 0.48461914 0.45996094 0.36376953]\n",
      "iteration 7 = [0.36499023 0.46209717 0.4876709  ... 0.4876709  0.46209717 0.36499023]\n",
      "iteration 8 = [0.36552429 0.46316528 0.48905945 ... 0.48905945 0.46316528 0.36552429]\n",
      "iteration 9 = [0.36579132 0.46364594 0.48975372 ... 0.48975372 0.46364594 0.36579132]\n",
      "iteration 10 = [0.36591148 0.46388626 0.49007416 ... 0.49007416 0.46388626 0.36591148]\n",
      "iteration 11 = [0.36597157 0.46399641 0.49023438 ... 0.49023438 0.46399641 0.36597157]\n",
      "iteration 12 = [0.3659991  0.46405149 0.49030912 ... 0.49030912 0.46405149 0.3659991 ]\n",
      "iteration 13 = [0.36601287 0.46407706 0.49034649 ... 0.49034649 0.46407706 0.36601287]\n",
      "\n",
      "Final Answer is: [0.36601287 0.46407706 0.49034649 ... 0.49034649 0.46407706 0.36601287]\n",
      "\n",
      "\n",
      "Start Jacobian method for n =  32 \n",
      "\n",
      "First Guess = [0. 0. 0. ... 0. 0. 0.]\n",
      "iteration 1 = [0.25 0.25 0.25 ... 0.25 0.25 0.25]\n",
      "iteration 2 = [0.3125 0.375  0.375  ... 0.375  0.375  0.3125]\n",
      "iteration 3 = [0.34375  0.421875 0.4375   ... 0.4375   0.421875 0.34375 ]\n",
      "iteration 4 = [0.35546875 0.4453125  0.46484375 ... 0.46484375 0.4453125  0.35546875]\n",
      "iteration 5 = [0.36132812 0.45507812 0.47851562 ... 0.47851562 0.45507812 0.36132812]\n",
      "iteration 6 = [0.36376953 0.45996094 0.48461914 ... 0.48461914 0.45996094 0.36376953]\n",
      "iteration 7 = [0.36499023 0.46209717 0.4876709  ... 0.4876709  0.46209717 0.36499023]\n",
      "iteration 8 = [0.36552429 0.46316528 0.48905945 ... 0.48905945 0.46316528 0.36552429]\n",
      "iteration 9 = [0.36579132 0.46364594 0.48975372 ... 0.48975372 0.46364594 0.36579132]\n",
      "iteration 10 = [0.36591148 0.46388626 0.49007416 ... 0.49007416 0.46388626 0.36591148]\n",
      "iteration 11 = [0.36597157 0.46399641 0.49023438 ... 0.49023438 0.46399641 0.36597157]\n",
      "iteration 12 = [0.3659991  0.46405149 0.49030912 ... 0.49030912 0.46405149 0.3659991 ]\n",
      "iteration 13 = [0.36601287 0.46407706 0.49034649 ... 0.49034649 0.46407706 0.36601287]\n",
      "iteration 14 = [0.36601926 0.46408984 0.49036407 ... 0.49036407 0.46408984 0.36601926]\n",
      "\n",
      "Final Answer is: [0.36601926 0.46408984 0.49036407 ... 0.49036407 0.46408984 0.36601926]\n",
      "\n",
      "\n",
      "Start Jacobian method for n =  64 \n",
      "\n",
      "First Guess = [0. 0. 0. ... 0. 0. 0.]\n",
      "iteration 1 = [0.25 0.25 0.25 ... 0.25 0.25 0.25]\n",
      "iteration 2 = [0.3125 0.375  0.375  ... 0.375  0.375  0.3125]\n",
      "iteration 3 = [0.34375  0.421875 0.4375   ... 0.4375   0.421875 0.34375 ]\n",
      "iteration 4 = [0.35546875 0.4453125  0.46484375 ... 0.46484375 0.4453125  0.35546875]\n",
      "iteration 5 = [0.36132812 0.45507812 0.47851562 ... 0.47851562 0.45507812 0.36132812]\n",
      "iteration 6 = [0.36376953 0.45996094 0.48461914 ... 0.48461914 0.45996094 0.36376953]\n",
      "iteration 7 = [0.36499023 0.46209717 0.4876709  ... 0.4876709  0.46209717 0.36499023]\n",
      "iteration 8 = [0.36552429 0.46316528 0.48905945 ... 0.48905945 0.46316528 0.36552429]\n",
      "iteration 9 = [0.36579132 0.46364594 0.48975372 ... 0.48975372 0.46364594 0.36579132]\n",
      "iteration 10 = [0.36591148 0.46388626 0.49007416 ... 0.49007416 0.46388626 0.36591148]\n",
      "iteration 11 = [0.36597157 0.46399641 0.49023438 ... 0.49023438 0.46399641 0.36597157]\n",
      "iteration 12 = [0.3659991  0.46405149 0.49030912 ... 0.49030912 0.46405149 0.3659991 ]\n",
      "iteration 13 = [0.36601287 0.46407706 0.49034649 ... 0.49034649 0.46407706 0.36601287]\n",
      "iteration 14 = [0.36601926 0.46408984 0.49036407 ... 0.49036407 0.46408984 0.36601926]\n",
      "iteration 15 = [0.36602246 0.46409583 0.49037286 ... 0.49037286 0.46409583 0.36602246]\n",
      "\n",
      "Final Answer is: [0.36602246 0.46409583 0.49037286 ... 0.49037286 0.46409583 0.36602246]\n",
      "\n",
      "\n",
      "Start Jacobian method for n =  128 \n",
      "\n",
      "First Guess = [0. 0. 0. ... 0. 0. 0.]\n",
      "iteration 1 = [0.25 0.25 0.25 ... 0.25 0.25 0.25]\n",
      "iteration 2 = [0.3125 0.375  0.375  ... 0.375  0.375  0.3125]\n",
      "iteration 3 = [0.34375  0.421875 0.4375   ... 0.4375   0.421875 0.34375 ]\n",
      "iteration 4 = [0.35546875 0.4453125  0.46484375 ... 0.46484375 0.4453125  0.35546875]\n",
      "iteration 5 = [0.36132812 0.45507812 0.47851562 ... 0.47851562 0.45507812 0.36132812]\n",
      "iteration 6 = [0.36376953 0.45996094 0.48461914 ... 0.48461914 0.45996094 0.36376953]\n",
      "iteration 7 = [0.36499023 0.46209717 0.4876709  ... 0.4876709  0.46209717 0.36499023]\n",
      "iteration 8 = [0.36552429 0.46316528 0.48905945 ... 0.48905945 0.46316528 0.36552429]\n",
      "iteration 9 = [0.36579132 0.46364594 0.48975372 ... 0.48975372 0.46364594 0.36579132]\n",
      "iteration 10 = [0.36591148 0.46388626 0.49007416 ... 0.49007416 0.46388626 0.36591148]\n",
      "iteration 11 = [0.36597157 0.46399641 0.49023438 ... 0.49023438 0.46399641 0.36597157]\n",
      "iteration 12 = [0.3659991  0.46405149 0.49030912 ... 0.49030912 0.46405149 0.3659991 ]\n",
      "iteration 13 = [0.36601287 0.46407706 0.49034649 ... 0.49034649 0.46407706 0.36601287]\n",
      "iteration 14 = [0.36601926 0.46408984 0.49036407 ... 0.49036407 0.46408984 0.36601926]\n",
      "iteration 15 = [0.36602246 0.46409583 0.49037286 ... 0.49037286 0.46409583 0.36602246]\n",
      "\n",
      "Final Answer is: [0.36602246 0.46409583 0.49037286 ... 0.49037286 0.46409583 0.36602246]\n",
      "\n",
      "\n",
      "Start Jacobian method for n =  256 \n",
      "\n",
      "First Guess = [0. 0. 0. ... 0. 0. 0.]\n",
      "iteration 1 = [0.25 0.25 0.25 ... 0.25 0.25 0.25]\n",
      "iteration 2 = [0.3125 0.375  0.375  ... 0.375  0.375  0.3125]\n",
      "iteration 3 = [0.34375  0.421875 0.4375   ... 0.4375   0.421875 0.34375 ]\n",
      "iteration 4 = [0.35546875 0.4453125  0.46484375 ... 0.46484375 0.4453125  0.35546875]\n",
      "iteration 5 = [0.36132812 0.45507812 0.47851562 ... 0.47851562 0.45507812 0.36132812]\n",
      "iteration 6 = [0.36376953 0.45996094 0.48461914 ... 0.48461914 0.45996094 0.36376953]\n",
      "iteration 7 = [0.36499023 0.46209717 0.4876709  ... 0.4876709  0.46209717 0.36499023]\n",
      "iteration 8 = [0.36552429 0.46316528 0.48905945 ... 0.48905945 0.46316528 0.36552429]\n",
      "iteration 9 = [0.36579132 0.46364594 0.48975372 ... 0.48975372 0.46364594 0.36579132]\n",
      "iteration 10 = [0.36591148 0.46388626 0.49007416 ... 0.49007416 0.46388626 0.36591148]\n",
      "iteration 11 = [0.36597157 0.46399641 0.49023438 ... 0.49023438 0.46399641 0.36597157]\n",
      "iteration 12 = [0.3659991  0.46405149 0.49030912 ... 0.49030912 0.46405149 0.3659991 ]\n",
      "iteration 13 = [0.36601287 0.46407706 0.49034649 ... 0.49034649 0.46407706 0.36601287]\n",
      "iteration 14 = [0.36601926 0.46408984 0.49036407 ... 0.49036407 0.46408984 0.36601926]\n",
      "iteration 15 = [0.36602246 0.46409583 0.49037286 ... 0.49037286 0.46409583 0.36602246]\n",
      "iteration 16 = [0.36602396 0.46409883 0.49037702 ... 0.49037702 0.46409883 0.36602396]\n",
      "\n",
      "Final Answer is: [0.36602396 0.46409883 0.49037702 ... 0.49037702 0.46409883 0.36602396]\n",
      "\n",
      "\n"
     ]
    }
   ],
   "source": [
    "def solve_Jacobian_tridiagonal(A, b, n, diff):\n",
    "    \"\"\" \n",
    "    Solve Ax = b with Jacobian method and iterate until \n",
    "    we have diffrence less than 0.0001\n",
    "    \"\"\"\n",
    "    \n",
    "    print(\"Start Jacobian method for n = \", n,'\\n')\n",
    "    \n",
    "    #Define L, D, U \n",
    "    L = np.tril(A, k = -1)\n",
    "    U = np.triu(A, k = 1)\n",
    "    D = np.diag(np.diag(A))\n",
    "    \n",
    "    #Initial Guess\n",
    "    X = []\n",
    "    X.append(np.zeros(n))\n",
    "    print('First Guess =', X[0])\n",
    "    \n",
    "    #Iteration\n",
    "    i = 0\n",
    "    start = time.time()\n",
    "    while True:\n",
    "        i += 1\n",
    "        X.append(np.dot(inv(D), (b - np.dot((L + U),X[-1]))))\n",
    "        if norm(X[-1] - X[-2]) < diff:\n",
    "             break \n",
    "        print(\"iteration\", i, \"=\", X[-1])  \n",
    "    finish = time.time()\n",
    "    seconds = finish - start\n",
    "    print(\"\\nFinal Answer is:\", X[-2])\n",
    "    return seconds, X[-2]\n",
    "\n",
    "\n",
    "#Solve for differnt n\n",
    "for n in n_list:\n",
    "    a = np.array([values[0] * np.ones(n-1), values[1] * np.ones(n), values[2] * np.ones(n-1)])\n",
    "    offset = [-1,0,1]\n",
    "    A = diags(a,offset).toarray()\n",
    "    b = np.ones(n)\n",
    "    seconds, final_answer = solve_Jacobian_tridiagonal(A, b, n, diff)\n",
    "    exact_sol = solve(A,b)\n",
    "    error = norm(exact_sol - final_answer)\n",
    "    \n",
    "    Jacobian_times.append(seconds)\n",
    "    Jacobian_errors.append(error)\n",
    "    print(\"\\n\")"
   ]
  },
  {
   "cell_type": "markdown",
   "metadata": {},
   "source": [
    "### 2. Gauss–Seidel"
   ]
  },
  {
   "cell_type": "code",
   "execution_count": 5,
   "metadata": {},
   "outputs": [
    {
     "name": "stdout",
     "output_type": "stream",
     "text": [
      "Start Gauss-Seidel method for n =  2 \n",
      "\n",
      "First Guess = [0. 0.]\n",
      "iteration 1 = [0.25   0.3125]\n",
      "iteration 2 = [0.328125   0.33203125]\n",
      "iteration 3 = [0.33300781 0.33325195]\n",
      "iteration 4 = [0.33331299 0.33332825]\n",
      "\n",
      "Final Answer is: [0.33331299 0.33332825]\n",
      "\n",
      "\n",
      "Start Gauss-Seidel method for n =  4 \n",
      "\n",
      "First Guess = [0. 0. 0. 0.]\n",
      "iteration 1 = [0.25       0.3125     0.328125   0.33203125]\n",
      "iteration 2 = [0.328125   0.4140625  0.43652344 0.35913086]\n",
      "iteration 3 = [0.35351562 0.44750977 0.45166016 0.36291504]\n",
      "iteration 4 = [0.36187744 0.4533844  0.45407486 0.36351871]\n",
      "iteration 5 = [0.3633461  0.45435524 0.45446849 0.36361712]\n",
      "iteration 6 = [0.36358881 0.45451432 0.45453286 0.36363322]\n",
      "\n",
      "Final Answer is: [0.36358881 0.45451432 0.45453286 0.36363322]\n",
      "\n",
      "\n",
      "Start Gauss-Seidel method for n =  8 \n",
      "\n",
      "First Guess = [0. 0. 0. ... 0. 0. 0.]\n",
      "iteration 1 = [0.25       0.3125     0.328125   ... 0.33325195 0.33331299 0.33332825]\n",
      "iteration 2 = [0.328125   0.4140625  0.43652344 ... 0.44430542 0.44440842 0.3611021 ]\n",
      "iteration 3 = [0.35351562 0.44750977 0.47247314 ... 0.48131466 0.46060419 0.36515105]\n",
      "iteration 4 = [0.36187744 0.45858765 0.48442078 ... 0.48844057 0.46339791 0.36584948]\n",
      "iteration 5 = [0.36464691 0.46226692 0.48839617 ... 0.4898388  0.46392207 0.36598052]\n",
      "iteration 6 = [0.36556673 0.46349072 0.48971982 ... 0.49012165 0.46402554 0.36600639]\n",
      "iteration 7 = [0.36587268 0.46389813 0.49007935 ... 0.4901803  0.46404667 0.36601167]\n",
      "iteration 8 = [0.36597453 0.46401347 0.49016861 ... 0.49019269 0.46405109 0.36601277]\n",
      "\n",
      "Final Answer is: [0.36597453 0.46401347 0.49016861 ... 0.49019269 0.46405109 0.36601277]\n",
      "\n",
      "\n",
      "Start Gauss-Seidel method for n =  16 \n",
      "\n",
      "First Guess = [0. 0. 0. ... 0. 0. 0.]\n",
      "iteration 1 = [0.25       0.3125     0.328125   ... 0.33333333 0.33333333 0.33333333]\n",
      "iteration 2 = [0.328125   0.4140625  0.43652344 ... 0.44444444 0.44444444 0.36111111]\n",
      "iteration 3 = [0.35351562 0.44750977 0.47247314 ... 0.48148148 0.46064815 0.36516204]\n",
      "iteration 4 = [0.36187744 0.45858765 0.48442078 ... 0.48861882 0.46344521 0.3658613 ]\n",
      "iteration 5 = [0.36464691 0.46226692 0.48839617 ... 0.49002138 0.46397067 0.36599267]\n",
      "iteration 6 = [0.36556673 0.46349072 0.48971982 ... 0.49030579 0.46407461 0.36601865]\n",
      "iteration 7 = [0.36587268 0.46389813 0.49016073 ... 0.49036499 0.46409591 0.36602398]\n",
      "iteration 8 = [0.36597453 0.46403382 0.49030763 ... 0.49037757 0.46410039 0.3660251 ]\n",
      "iteration 9 = [0.36600845 0.46407902 0.49035659 ... 0.49038029 0.46410135 0.36602534]\n",
      "\n",
      "Final Answer is: [0.36600845 0.46407902 0.49035659 ... 0.49038029 0.46410135 0.36602534]\n",
      "\n",
      "\n",
      "Start Gauss-Seidel method for n =  32 \n",
      "\n",
      "First Guess = [0. 0. 0. ... 0. 0. 0.]\n",
      "iteration 1 = [0.25       0.3125     0.328125   ... 0.33333333 0.33333333 0.33333333]\n",
      "iteration 2 = [0.328125   0.4140625  0.43652344 ... 0.44444444 0.44444444 0.36111111]\n",
      "iteration 3 = [0.35351562 0.44750977 0.47247314 ... 0.48148148 0.46064815 0.36516204]\n",
      "iteration 4 = [0.36187744 0.45858765 0.48442078 ... 0.48861883 0.46344522 0.3658613 ]\n",
      "iteration 5 = [0.36464691 0.46226692 0.48839617 ... 0.49002138 0.46397067 0.36599267]\n",
      "iteration 6 = [0.36556673 0.46349072 0.48971982 ... 0.49030579 0.46407461 0.36601865]\n",
      "iteration 7 = [0.36587268 0.46389813 0.49016073 ... 0.49036499 0.46409591 0.36602398]\n",
      "iteration 8 = [0.36597453 0.46403382 0.49030763 ... 0.49037757 0.46410039 0.3660251 ]\n",
      "iteration 9 = [0.36600845 0.46407902 0.49035659 ... 0.49038029 0.46410135 0.36602534]\n",
      "\n",
      "Final Answer is: [0.36600845 0.46407902 0.49035659 ... 0.49038029 0.46410135 0.36602534]\n",
      "\n",
      "\n",
      "Start Gauss-Seidel method for n =  64 \n",
      "\n",
      "First Guess = [0. 0. 0. ... 0. 0. 0.]\n",
      "iteration 1 = [0.25       0.3125     0.328125   ... 0.33333333 0.33333333 0.33333333]\n",
      "iteration 2 = [0.328125   0.4140625  0.43652344 ... 0.44444444 0.44444444 0.36111111]\n",
      "iteration 3 = [0.35351562 0.44750977 0.47247314 ... 0.48148148 0.46064815 0.36516204]\n",
      "iteration 4 = [0.36187744 0.45858765 0.48442078 ... 0.48861883 0.46344522 0.3658613 ]\n",
      "iteration 5 = [0.36464691 0.46226692 0.48839617 ... 0.49002138 0.46397067 0.36599267]\n",
      "iteration 6 = [0.36556673 0.46349072 0.48971982 ... 0.49030579 0.46407461 0.36601865]\n",
      "iteration 7 = [0.36587268 0.46389813 0.49016073 ... 0.49036499 0.46409591 0.36602398]\n",
      "iteration 8 = [0.36597453 0.46403382 0.49030763 ... 0.49037757 0.46410039 0.3660251 ]\n",
      "iteration 9 = [0.36600845 0.46407902 0.49035659 ... 0.49038029 0.46410135 0.36602534]\n",
      "iteration 10 = [0.36601976 0.46409409 0.4903729  ... 0.49038089 0.46410156 0.36602539]\n",
      "\n",
      "Final Answer is: [0.36601976 0.46409409 0.4903729  ... 0.49038089 0.46410156 0.36602539]\n",
      "\n",
      "\n",
      "Start Gauss-Seidel method for n =  128 \n",
      "\n",
      "First Guess = [0. 0. 0. ... 0. 0. 0.]\n",
      "iteration 1 = [0.25       0.3125     0.328125   ... 0.33333333 0.33333333 0.33333333]\n",
      "iteration 2 = [0.328125   0.4140625  0.43652344 ... 0.44444444 0.44444444 0.36111111]\n",
      "iteration 3 = [0.35351562 0.44750977 0.47247314 ... 0.48148148 0.46064815 0.36516204]\n",
      "iteration 4 = [0.36187744 0.45858765 0.48442078 ... 0.48861883 0.46344522 0.3658613 ]\n",
      "iteration 5 = [0.36464691 0.46226692 0.48839617 ... 0.49002138 0.46397067 0.36599267]\n",
      "iteration 6 = [0.36556673 0.46349072 0.48971982 ... 0.49030579 0.46407461 0.36601865]\n",
      "iteration 7 = [0.36587268 0.46389813 0.49016073 ... 0.49036499 0.46409591 0.36602398]\n",
      "iteration 8 = [0.36597453 0.46403382 0.49030763 ... 0.49037757 0.46410039 0.3660251 ]\n",
      "iteration 9 = [0.36600845 0.46407902 0.49035659 ... 0.49038029 0.46410135 0.36602534]\n",
      "iteration 10 = [0.36601976 0.46409409 0.4903729  ... 0.49038089 0.46410156 0.36602539]\n",
      "\n",
      "Final Answer is: [0.36601976 0.46409409 0.4903729  ... 0.49038089 0.46410156 0.36602539]\n",
      "\n",
      "\n",
      "Start Gauss-Seidel method for n =  256 \n",
      "\n",
      "First Guess = [0. 0. 0. ... 0. 0. 0.]\n",
      "iteration 1 = [0.25       0.3125     0.328125   ... 0.33333333 0.33333333 0.33333333]\n",
      "iteration 2 = [0.328125   0.4140625  0.43652344 ... 0.44444444 0.44444444 0.36111111]\n",
      "iteration 3 = [0.35351562 0.44750977 0.47247314 ... 0.48148148 0.46064815 0.36516204]\n",
      "iteration 4 = [0.36187744 0.45858765 0.48442078 ... 0.48861883 0.46344522 0.3658613 ]\n",
      "iteration 5 = [0.36464691 0.46226692 0.48839617 ... 0.49002138 0.46397067 0.36599267]\n",
      "iteration 6 = [0.36556673 0.46349072 0.48971982 ... 0.49030579 0.46407461 0.36601865]\n",
      "iteration 7 = [0.36587268 0.46389813 0.49016073 ... 0.49036499 0.46409591 0.36602398]\n",
      "iteration 8 = [0.36597453 0.46403382 0.49030763 ... 0.49037757 0.46410039 0.3660251 ]\n",
      "iteration 9 = [0.36600845 0.46407902 0.49035659 ... 0.49038029 0.46410135 0.36602534]\n",
      "iteration 10 = [0.36601976 0.46409409 0.4903729  ... 0.49038089 0.46410156 0.36602539]\n",
      "\n",
      "Final Answer is: [0.36601976 0.46409409 0.4903729  ... 0.49038089 0.46410156 0.36602539]\n",
      "\n",
      "\n"
     ]
    }
   ],
   "source": [
    "def solve_Gauss_Seidel_tridiagonal(A, b, n, diff):\n",
    "    \"\"\" \n",
    "    Solve Ax = b with Gauss-Seidel method and iterate until \n",
    "    we have diffrence less than 0.0001\n",
    "    \"\"\"\n",
    "    \n",
    "    print(\"Start Gauss-Seidel method for n = \", n,'\\n')\n",
    "    \n",
    "    #Define L, D, U \n",
    "    L = np.tril(A, k = -1)\n",
    "    U = np.triu(A, k = 1)\n",
    "    D = np.diag(np.diag(A))\n",
    "\n",
    "    #Initial Guess\n",
    "    X = []\n",
    "    X.append(np.zeros(n))\n",
    "    print('First Guess =', X[0])\n",
    "    \n",
    "    #Iteration\n",
    "    i = 0\n",
    "    start = time.time()\n",
    "    while True:\n",
    "        i += 1\n",
    "        X.append(np.dot(inv(D + L), b - np.dot(U, X[-1]) ))\n",
    "        if norm(X[-1] - X[-2]) < diff:\n",
    "             break \n",
    "        print(\"iteration\", i, \"=\", X[-1])  \n",
    "    finish = time.time()\n",
    "    seconds = finish - start\n",
    "    print(\"\\nFinal Answer is:\", X[-2])\n",
    "    return seconds, X[-2]\n",
    "\n",
    "\n",
    "#Solve for differnt n\n",
    "for n in n_list:\n",
    "    a = np.array([values[0] * np.ones(n-1), values[1] * np.ones(n), values[2] * np.ones(n-1)])\n",
    "    offset = [-1,0,1]\n",
    "    A = diags(a,offset).toarray()\n",
    "    b = np.ones(n)\n",
    "    seconds, final_answer = solve_Gauss_Seidel_tridiagonal(A, b, n, diff)\n",
    "    exact_sol = solve(A,b)\n",
    "    error = norm(exact_sol - final_answer)\n",
    "    \n",
    "    Gauss_Seidel_times.append(seconds)\n",
    "    Gauss_Seidel_errors.append(error)\n",
    "\n",
    "    print(\"\\n\")     "
   ]
  },
  {
   "cell_type": "markdown",
   "metadata": {},
   "source": [
    "### 3. SOR"
   ]
  },
  {
   "cell_type": "code",
   "execution_count": 6,
   "metadata": {},
   "outputs": [
    {
     "name": "stdout",
     "output_type": "stream",
     "text": [
      "Start SOR method for n =  2 \n",
      "\n",
      "First Guess = [0. 0.]\n",
      "iteration 1 = [0.325    0.430625]\n",
      "iteration 2 = [0.36745312 0.31523477]\n",
      "iteration 3 = [0.31721536 0.33352456]\n",
      "iteration 4 = [0.33823087 0.33486767]\n",
      "iteration 5 = [0.33236273 0.33255759]\n",
      "iteration 6 = [0.3333724  0.33357875]\n",
      "iteration 7 = [0.33340138 0.33328182]\n",
      "iteration 8 = [0.33329618 0.33333671]\n",
      "\n",
      "Final Answer is: [0.33329618 0.33333671]\n",
      "\n",
      "\n",
      "Start SOR method for n =  4 \n",
      "\n",
      "First Guess = [0. 0. 0. 0.]\n",
      "iteration 1 = [0.325      0.430625   0.46495313 0.47610977]\n",
      "iteration 2 = [0.36745312 0.46634453 0.49181171 0.34200588]\n",
      "iteration 3 = [0.36632604 0.46399141 0.4394056  0.36520506]\n",
      "iteration 4 = [0.3658994  0.4475267  0.45731614 0.36406623]\n",
      "iteration 5 = [0.36067636 0.45658955 0.45451829 0.36349857]\n",
      "iteration 6 = [0.3651887  0.4544279  0.45447062 0.36365338]\n",
      "iteration 7 = [0.36313246 0.45439263 0.45452377 0.36362421]\n",
      "iteration 8 = [0.36373787 0.45461724 0.45457134 0.36364842]\n",
      "iteration 9 = [0.36362924 0.45453002 0.45453659 0.36362987]\n",
      "\n",
      "Final Answer is: [0.36362924 0.45453002 0.45453659 0.36362987]\n",
      "\n",
      "\n",
      "Start SOR method for n =  8 \n",
      "\n",
      "First Guess = [0. 0. 0. ... 0. 0. 0.]\n",
      "iteration 1 = [0.325      0.430625   0.46495313 ... 0.48091409 0.48129708 0.48142155]\n",
      "iteration 2 = [0.36745312 0.46634453 0.49181171 ... 0.49938744 0.4993738  0.34287002]\n",
      "iteration 3 = [0.36632604 0.46399141 0.49007768 ... 0.49969136 0.44902031 0.36807059]\n",
      "iteration 4 = [0.3658994  0.46399513 0.49034541 ... 0.48330697 0.46699161 0.3663511 ]\n",
      "iteration 5 = [0.3660286  0.46412301 0.49040161 ... 0.4923111  0.46396773 0.36588418]\n",
      "iteration 6 = [0.3660314  0.46410382 0.49037926 ... 0.48991784 0.46394534 0.36601698]\n",
      "iteration 7 = [0.36602432 0.46410002 0.48981279 ... 0.49016118 0.4640743  0.36601905]\n",
      "iteration 8 = [0.36602521 0.46391734 0.4904546  ... 0.49021687 0.46405439 0.36601196]\n",
      "iteration 9 = [0.36596557 0.46416135 0.49009788 ... 0.4901942  0.46405069 0.36601289]\n",
      "iteration 10 = [0.36606277 0.46400381 0.49021726 ... 0.49019521 0.46405242 0.36601317]\n",
      "iteration 11 = [0.36598241 0.46406375 0.49019464 ... 0.4901963  0.46405235 0.36601306]\n",
      "\n",
      "Final Answer is: [0.36598241 0.46406375 0.49019464 ... 0.4901963  0.46405235 0.36601306]\n",
      "\n",
      "\n",
      "Start SOR method for n =  16 \n",
      "\n",
      "First Guess = [0. 0. 0. ... 0. 0. 0.]\n",
      "iteration 1 = [0.325      0.430625   0.46495313 ... 0.48148141 0.48148146 0.48148147]\n",
      "iteration 2 = [0.36745312 0.46634453 0.49181171 ... 0.49931425 0.49931417 0.34283266]\n",
      "iteration 3 = [0.36632604 0.46399141 0.49007768 ... 0.49997446 0.44911806 0.36811357]\n",
      "iteration 4 = [0.3658994  0.46399513 0.49034541 ... 0.48347079 0.4670295  0.36635052]\n",
      "iteration 5 = [0.3660286  0.46412301 0.49040161 ... 0.49249749 0.46401675 0.36590029]\n",
      "iteration 6 = [0.3660314  0.46410382 0.49037926 ... 0.4901031  0.46399608 0.36602864]\n",
      "iteration 7 = [0.36602432 0.46410002 0.49038015 ... 0.49034634 0.46412304 0.3660314 ]\n",
      "iteration 8 = [0.36602521 0.46410174 0.49038133 ... 0.49040164 0.46410382 0.36602432]\n",
      "iteration 9 = [0.3660255  0.4641017  0.49038107 ... 0.49037925 0.46410001 0.36602521]\n",
      "iteration 10 = [0.3660254  0.46410159 0.49038104 ... 0.49038015 0.46410174 0.3660255 ]\n",
      "iteration 11 = [0.3660254  0.46410161 0.49038106 ... 0.49038132 0.4641017  0.3660254 ]\n",
      "\n",
      "Final Answer is: [0.3660254  0.46410161 0.49038106 ... 0.49038132 0.4641017  0.3660254 ]\n",
      "\n",
      "\n",
      "Start SOR method for n =  32 \n",
      "\n",
      "First Guess = [0. 0. 0. ... 0. 0. 0.]\n",
      "iteration 1 = [0.325      0.430625   0.46495313 ... 0.48148148 0.48148148 0.48148148]\n",
      "iteration 2 = [0.36745312 0.46634453 0.49181171 ... 0.49931413 0.49931413 0.34283265]\n",
      "iteration 3 = [0.36632604 0.46399141 0.49007768 ... 0.4999746  0.44911812 0.36811359]\n",
      "iteration 4 = [0.3658994  0.46399513 0.49034541 ... 0.4834707  0.46702946 0.3663505 ]\n",
      "iteration 5 = [0.3660286  0.46412301 0.49040161 ... 0.49249755 0.46401678 0.3659003 ]\n",
      "iteration 6 = [0.3660314  0.46410382 0.49037926 ... 0.49010309 0.46399607 0.36602863]\n",
      "iteration 7 = [0.36602432 0.46410002 0.49038015 ... 0.49034635 0.46412305 0.3660314 ]\n",
      "iteration 8 = [0.36602521 0.46410174 0.49038133 ... 0.49040165 0.46410383 0.36602432]\n",
      "iteration 9 = [0.3660255  0.4641017  0.49038107 ... 0.49037926 0.46410002 0.36602521]\n",
      "iteration 10 = [0.3660254  0.46410159 0.49038104 ... 0.49038015 0.46410174 0.3660255 ]\n",
      "iteration 11 = [0.3660254  0.46410161 0.49038106 ... 0.49038133 0.4641017  0.3660254 ]\n",
      "\n",
      "Final Answer is: [0.3660254  0.46410161 0.49038106 ... 0.49038133 0.4641017  0.3660254 ]\n",
      "\n",
      "\n",
      "Start SOR method for n =  64 \n",
      "\n",
      "First Guess = [0. 0. 0. ... 0. 0. 0.]\n",
      "iteration 1 = [0.325      0.430625   0.46495313 ... 0.48148148 0.48148148 0.48148148]\n",
      "iteration 2 = [0.36745312 0.46634453 0.49181171 ... 0.49931413 0.49931413 0.34283265]\n",
      "iteration 3 = [0.36632604 0.46399141 0.49007768 ... 0.4999746  0.44911812 0.36811359]\n",
      "iteration 4 = [0.3658994  0.46399513 0.49034541 ... 0.4834707  0.46702946 0.3663505 ]\n",
      "iteration 5 = [0.3660286  0.46412301 0.49040161 ... 0.49249755 0.46401678 0.3659003 ]\n",
      "iteration 6 = [0.3660314  0.46410382 0.49037926 ... 0.49010309 0.46399607 0.36602863]\n",
      "iteration 7 = [0.36602432 0.46410002 0.49038015 ... 0.49034635 0.46412305 0.3660314 ]\n",
      "iteration 8 = [0.36602521 0.46410174 0.49038133 ... 0.49040165 0.46410383 0.36602432]\n",
      "iteration 9 = [0.3660255  0.4641017  0.49038107 ... 0.49037926 0.46410002 0.36602521]\n",
      "iteration 10 = [0.3660254  0.46410159 0.49038104 ... 0.49038015 0.46410174 0.3660255 ]\n",
      "iteration 11 = [0.3660254  0.46410161 0.49038106 ... 0.49038133 0.4641017  0.3660254 ]\n",
      "\n",
      "Final Answer is: [0.3660254  0.46410161 0.49038106 ... 0.49038133 0.4641017  0.3660254 ]\n",
      "\n",
      "\n",
      "Start SOR method for n =  128 \n",
      "\n",
      "First Guess = [0. 0. 0. ... 0. 0. 0.]\n",
      "iteration 1 = [0.325      0.430625   0.46495313 ... 0.48148148 0.48148148 0.48148148]\n",
      "iteration 2 = [0.36745312 0.46634453 0.49181171 ... 0.49931413 0.49931413 0.34283265]\n",
      "iteration 3 = [0.36632604 0.46399141 0.49007768 ... 0.4999746  0.44911812 0.36811359]\n",
      "iteration 4 = [0.3658994  0.46399513 0.49034541 ... 0.4834707  0.46702946 0.3663505 ]\n",
      "iteration 5 = [0.3660286  0.46412301 0.49040161 ... 0.49249755 0.46401678 0.3659003 ]\n",
      "iteration 6 = [0.3660314  0.46410382 0.49037926 ... 0.49010309 0.46399607 0.36602863]\n",
      "iteration 7 = [0.36602432 0.46410002 0.49038015 ... 0.49034635 0.46412305 0.3660314 ]\n",
      "iteration 8 = [0.36602521 0.46410174 0.49038133 ... 0.49040165 0.46410383 0.36602432]\n",
      "iteration 9 = [0.3660255  0.4641017  0.49038107 ... 0.49037926 0.46410002 0.36602521]\n",
      "iteration 10 = [0.3660254  0.46410159 0.49038104 ... 0.49038015 0.46410174 0.3660255 ]\n",
      "iteration 11 = [0.3660254  0.46410161 0.49038106 ... 0.49038133 0.4641017  0.3660254 ]\n",
      "\n",
      "Final Answer is: [0.3660254  0.46410161 0.49038106 ... 0.49038133 0.4641017  0.3660254 ]\n",
      "\n",
      "\n",
      "Start SOR method for n =  256 \n",
      "\n",
      "First Guess = [0. 0. 0. ... 0. 0. 0.]\n",
      "iteration 1 = [0.325      0.430625   0.46495313 ... 0.48148148 0.48148148 0.48148148]\n",
      "iteration 2 = [0.36745312 0.46634453 0.49181171 ... 0.49931413 0.49931413 0.34283265]\n",
      "iteration 3 = [0.36632604 0.46399141 0.49007768 ... 0.4999746  0.44911812 0.36811359]\n",
      "iteration 4 = [0.3658994  0.46399513 0.49034541 ... 0.4834707  0.46702946 0.3663505 ]\n",
      "iteration 5 = [0.3660286  0.46412301 0.49040161 ... 0.49249755 0.46401678 0.3659003 ]\n",
      "iteration 6 = [0.3660314  0.46410382 0.49037926 ... 0.49010309 0.46399607 0.36602863]\n",
      "iteration 7 = [0.36602432 0.46410002 0.49038015 ... 0.49034635 0.46412305 0.3660314 ]\n",
      "iteration 8 = [0.36602521 0.46410174 0.49038133 ... 0.49040165 0.46410383 0.36602432]\n",
      "iteration 9 = [0.3660255  0.4641017  0.49038107 ... 0.49037926 0.46410002 0.36602521]\n",
      "iteration 10 = [0.3660254  0.46410159 0.49038104 ... 0.49038015 0.46410174 0.3660255 ]\n",
      "iteration 11 = [0.3660254  0.46410161 0.49038106 ... 0.49038133 0.4641017  0.3660254 ]\n",
      "\n",
      "Final Answer is: [0.3660254  0.46410161 0.49038106 ... 0.49038133 0.4641017  0.3660254 ]\n",
      "\n",
      "\n"
     ]
    }
   ],
   "source": [
    "def solve_SOR_tridiagonal(A, b, w, n, diff):\n",
    "    \"\"\" \n",
    "    Solve Ax = b with SOR method and iterate until \n",
    "    we have diffrence less than 0.0001\n",
    "    \"\"\"\n",
    "    \n",
    "    print(\"Start SOR method for n = \", n,'\\n')\n",
    "    \n",
    "    #Define L, D, U \n",
    "    L = np.tril(A, k = -1)\n",
    "    U = np.triu(A, k = 1)\n",
    "    D = np.diag(np.diag(A))\n",
    "\n",
    "    #Initial Guess\n",
    "    X = []\n",
    "    X.append(np.zeros(n))\n",
    "    print('First Guess =', X[0])\n",
    "    \n",
    "    #Iteration\n",
    "    i = 0\n",
    "    start = time.time()\n",
    "    while True:\n",
    "        i += 1\n",
    "        X.append(np.dot(inv(D + w * L), w * b + np.dot( (1-w) * D - w * U, X[-1]) ))\n",
    "        if norm(X[-1] - X[-2]) < diff:\n",
    "             break \n",
    "        print(\"iteration\", i, \"=\", X[-1])  \n",
    "    finish = time.time()\n",
    "    seconds = finish - start\n",
    "    print(\"\\nFinal Answer is:\", X[-2])\n",
    "    return seconds, X[-2]\n",
    "\n",
    "#Solver for differnt n\n",
    "for n in n_list:\n",
    "    a = np.array([values[0] * np.ones(n-1), values[1] * np.ones(n), values[2] * np.ones(n-1)])\n",
    "    offset = [-1,0,1]\n",
    "    A = diags(a,offset).toarray()\n",
    "    b = np.ones(n)\n",
    "    seconds, final_answer = solve_SOR_tridiagonal(A, b, w, n, diff)\n",
    "    exact_sol = solve(A,b)\n",
    "    error = norm(exact_sol - final_answer)\n",
    "    \n",
    "    SOR_times.append(seconds)\n",
    "    SOR_errors.append(error)\n",
    "\n",
    "    print(\"\\n\")     "
   ]
  },
  {
   "cell_type": "markdown",
   "metadata": {},
   "source": [
    "# b) Comparison"
   ]
  },
  {
   "cell_type": "markdown",
   "metadata": {},
   "source": [
    "### Time"
   ]
  },
  {
   "cell_type": "code",
   "execution_count": 7,
   "metadata": {},
   "outputs": [
    {
     "data": {
      "image/png": "[encoded data removed]",
      "text/plain": [
       "<Figure size 432x288 with 1 Axes>"
      ]
     },
     "metadata": {
      "needs_background": "light"
     },
     "output_type": "display_data"
    }
   ],
   "source": [
    "plt.plot(n_list,Jacobian_times, label = \"Jacobi\")\n",
    "plt.plot(n_list,Gauss_Seidel_times, label = \"Gaus-Seidel\")\n",
    "plt.plot(n_list,SOR_times, label = \"SOR\")\n",
    "plt.ylabel(\"time\")\n",
    "plt.xlabel(\"n\")\n",
    "plt.legend()\n",
    "plt.show()"
   ]
  },
  {
   "cell_type": "markdown",
   "metadata": {},
   "source": [
    "## Accuaracy"
   ]
  },
  {
   "cell_type": "code",
   "execution_count": 8,
   "metadata": {},
   "outputs": [
    {
     "data": {
      "image/png": "[encoded data removed]",
      "text/plain": [
       "<Figure size 432x288 with 1 Axes>"
      ]
     },
     "metadata": {
      "needs_background": "light"
     },
     "output_type": "display_data"
    }
   ],
   "source": [
    "plt.plot(n_list,Jacobian_errors, label = \"Jacobi\")\n",
    "plt.plot(n_list,Gauss_Seidel_errors, label = \"Gaus-Seidel\")\n",
    "plt.plot(n_list,SOR_errors, label = \"SOR\")\n",
    "plt.ylabel(\"Difference\")\n",
    "plt.xlabel(\"n\")\n",
    "plt.legend()\n",
    "plt.show()"
   ]
  },
  {
   "cell_type": "markdown",
   "metadata": {},
   "source": [
    "# LU"
   ]
  },
  {
   "cell_type": "markdown",
   "metadata": {},
   "source": [
    "### Without Partial Pivoting"
   ]
  },
  {
   "cell_type": "code",
   "execution_count": 9,
   "metadata": {},
   "outputs": [
    {
     "data": {
      "text/plain": [
       "[0.0,\n",
       " 0.0,\n",
       " 0.0004935264587402344,\n",
       " 0.0025713443756103516,\n",
       " 0.007012367248535156,\n",
       " 0.06083965301513672,\n",
       " 0.4329957962036133,\n",
       " 3.887474536895752]"
      ]
     },
     "execution_count": 9,
     "metadata": {},
     "output_type": "execute_result"
    }
   ],
   "source": [
    "def LU(A):\n",
    "    \n",
    "    \"\"\"Find L and U that A = LU\n",
    "    without pivoting\"\"\"\n",
    "    \n",
    "    start = time.time()\n",
    "    n = A.shape[0]\n",
    "    L = np.zeros((n,n))\n",
    "    U = np.zeros((n,n))\n",
    "    np.fill_diagonal(L, 1)\n",
    "\n",
    "    for k in range(n-1):\n",
    "        for i in range(k+1, n):\n",
    "            if A[k,k] != 0:\n",
    "                A[i,k] = A[i,k] / A[k,k]\n",
    "            else:\n",
    "                print(\"Failed!\")\n",
    "                break\n",
    "                \n",
    "            for j in range(k+1,n):      \n",
    "                A[i,j] = A[i,j] - A[i,k]*A[k,j]\n",
    "\n",
    "    for i in range(n):\n",
    "        for j in range(n):\n",
    "            if j >= i:\n",
    "                U[i, j] = A[i, j]\n",
    "            else:\n",
    "                L[i, j] = A[i, j]\n",
    "    finish = time.time()  \n",
    "    return finish - start\n",
    "\n",
    "lu_time = []\n",
    "for n in n_list:\n",
    "    a = np.array([values[0] * np.ones(n-1), values[1] * np.ones(n), values[2] * np.ones(n-1)])\n",
    "    offset = [-1,0,1]\n",
    "    A = diags(a,offset).toarray()\n",
    "    lu_time.append(LU(A))\n",
    "    \n",
    "lu_time"
   ]
  },
  {
   "cell_type": "markdown",
   "metadata": {},
   "source": [
    "### With Partial Pivoting"
   ]
  },
  {
   "cell_type": "code",
   "execution_count": 10,
   "metadata": {},
   "outputs": [
    {
     "data": {
      "text/plain": [
       "[0.0,\n",
       " 0.0009083747863769531,\n",
       " 0.0005595684051513672,\n",
       " 0.0014548301696777344,\n",
       " 0.008986473083496094,\n",
       " 0.06083989143371582,\n",
       " 0.4476017951965332,\n",
       " 3.7875194549560547]"
      ]
     },
     "execution_count": 10,
     "metadata": {},
     "output_type": "execute_result"
    }
   ],
   "source": [
    "def LU_pivot(A):\n",
    "    \n",
    "    \"\"\"Find L and U that A = LU\n",
    "    with pivoting\"\"\"\n",
    "    \n",
    "    start = time.time()\n",
    "    n = A.shape[0]\n",
    "    L = np.zeros((n,n))\n",
    "    U = np.zeros((n,n))\n",
    "    np.fill_diagonal(L, 1)\n",
    "\n",
    "    piv = np.arange(0,n)\n",
    "    \n",
    "    for k in range(n-1):\n",
    "        r = np.argmax(abs(A[k:n,k])) + k\n",
    "        piv[[k, r]] = piv[[r, k]]\n",
    "        A[[k, r]] = A[[r, k]]\n",
    " \n",
    "        for i in range(k+1, n):          \n",
    "            A[i, k] = A[i, k] / A[k, k]\n",
    "            \n",
    "            for j in range(k+1, n):      \n",
    "                A[i, j] =  A[i, j] - A[i, k]*A[k, j] \n",
    " \n",
    "\n",
    "    for i in range(n):\n",
    "        for j in range(n):\n",
    "            if j >= i:\n",
    "                U[i, j] = A[i, j]\n",
    "            else:\n",
    "                L[i, j] = A[i, j]\n",
    "                \n",
    "    finish = time.time()  \n",
    "    return finish - start\n",
    "\n",
    "lu_pivot_time = []\n",
    "for n in n_list:\n",
    "    a = np.array([values[0] * np.ones(n-1), values[1] * np.ones(n), values[2] * np.ones(n-1)])\n",
    "    offset = [-1,0,1]\n",
    "    A = diags(a,offset).toarray()\n",
    "    lu_pivot_time.append(LU_pivot(A))\n",
    "    \n",
    "lu_pivot_time    "
   ]
  },
  {
   "cell_type": "markdown",
   "metadata": {},
   "source": [
    "## Comparison"
   ]
  },
  {
   "cell_type": "code",
   "execution_count": 11,
   "metadata": {},
   "outputs": [
    {
     "data": {
      "image/png": "[encoded data removed]",
      "text/plain": [
       "<Figure size 432x288 with 1 Axes>"
      ]
     },
     "metadata": {
      "needs_background": "light"
     },
     "output_type": "display_data"
    }
   ],
   "source": [
    "plt.plot(n_list,lu_time, label = \"Without-Pivot\")\n",
    "plt.plot(n_list,lu_pivot_time, label = \"With-Pivot\")\n",
    "plt.ylabel(\"time\")\n",
    "plt.xlabel(\"n\")\n",
    "plt.legend()\n",
    "plt.show()"
   ]
  },
  {
   "cell_type": "markdown",
   "metadata": {},
   "source": [
    "## Prove O(N ^ 3)"
   ]
  },
  {
   "cell_type": "code",
   "execution_count": 12,
   "metadata": {},
   "outputs": [
    {
     "data": {
      "image/png": "[encoded data removed]",
      "text/plain": [
       "<Figure size 432x288 with 1 Axes>"
      ]
     },
     "metadata": {
      "needs_background": "light"
     },
     "output_type": "display_data"
    }
   ],
   "source": [
    "#Compare with Previous Plot\n",
    "mylist = []\n",
    "for i in range(1000):\n",
    "    mylist.append(i ** 3)\n",
    "plt.plot(list(range(1000)),mylist, label = \"N ^ 3\")\n",
    "plt.xlim(0, 1000)\n",
    "plt.ylim(0, 1000 ** 3)\n",
    "plt.legend()\n",
    "plt.show()"
   ]
  },
  {
   "cell_type": "code",
   "execution_count": 13,
   "metadata": {},
   "outputs": [
    {
     "data": {
      "text/plain": [
       "[2.7271210013908207, 8.676050591595267, 7.1169997648718555, 8.978088404044675]"
      ]
     },
     "execution_count": 13,
     "metadata": {},
     "output_type": "execute_result"
    }
   ],
   "source": [
    "Ratio_lu = []\n",
    "for i in range(3, 7):\n",
    "    Ratio_lu.append(lu_time[i + 1] / lu_time[i])\n",
    "Ratio_lu    "
   ]
  },
  {
   "cell_type": "code",
   "execution_count": 14,
   "metadata": {},
   "outputs": [
    {
     "data": {
      "text/plain": [
       "6.874564940475654"
      ]
     },
     "execution_count": 14,
     "metadata": {},
     "output_type": "execute_result"
    }
   ],
   "source": [
    "sum(Ratio_lu) / len(Ratio_lu)"
   ]
  },
  {
   "cell_type": "code",
   "execution_count": 15,
   "metadata": {},
   "outputs": [
    {
     "data": {
      "text/plain": [
       "[6.176991150442478, 6.77016342990555, 7.35704460755307, 8.461805773797286]"
      ]
     },
     "execution_count": 15,
     "metadata": {},
     "output_type": "execute_result"
    }
   ],
   "source": [
    "Ratio_pivot_lu = []\n",
    "for i in range(3, 7):\n",
    "    Ratio_pivot_lu.append(lu_pivot_time[i + 1] / lu_pivot_time[i])\n",
    "Ratio_pivot_lu    "
   ]
  },
  {
   "cell_type": "code",
   "execution_count": 16,
   "metadata": {},
   "outputs": [
    {
     "data": {
      "text/plain": [
       "7.191501240424596"
      ]
     },
     "execution_count": 16,
     "metadata": {},
     "output_type": "execute_result"
    }
   ],
   "source": [
    "sum(Ratio_pivot_lu) / len(Ratio_pivot_lu)"
   ]
  }
 ],
 "metadata": {
  "kernelspec": {
   "display_name": "Python 3",
   "language": "python",
   "name": "python3"
  },
  "language_info": {
   "codemirror_mode": {
    "name": "ipython",
    "version": 3
   },
   "file_extension": ".py",
   "mimetype": "text/x-python",
   "name": "python",
   "nbconvert_exporter": "python",
   "pygments_lexer": "ipython3",
   "version": "3.7.4"
  }
 },
 "nbformat": 4,
 "nbformat_minor": 2
}
